{
 "cells": [
  {
   "cell_type": "code",
   "execution_count": 1,
   "metadata": {},
   "outputs": [],
   "source": [
    "import pandas as pd\n",
    "import numpy as np\n",
    "from sklearn.feature_selection import chi2"
   ]
  },
  {
   "cell_type": "code",
   "execution_count": 3,
   "metadata": {},
   "outputs": [],
   "source": [
    "df = pd.read_csv(r\"data/train.csv\")\n",
    "df.dropna(inplace=True)\n",
    "cat_cols = [\"HomePlanet\", \"CryoSleep\",\"Destination\",\"VIP\",'Transported'] #leave out Cabin\n",
    "X = df[[\"HomePlanet\", \"CryoSleep\",\"Destination\",\"VIP\"]].copy()\n",
    "y = df[['Transported']].copy()\n",
    "X = pd.get_dummies(X).copy()\n",
    "chi2_stats, p_values = chi2(X, y)"
   ]
  },
  {
   "cell_type": "code",
   "execution_count": 11,
   "metadata": {},
   "outputs": [
    {
     "data": {
      "text/plain": [
       "[('HomePlanet_Earth', 1.2844332749937377e-20),\n",
       " ('HomePlanet_Europa', 2.0383985583024164e-37),\n",
       " ('HomePlanet_Mars', 0.3711156318004062),\n",
       " ('CryoSleep_False', 1.230810817530024e-110),\n",
       " ('CryoSleep_True', 4.3287081167660795e-201),\n",
       " ('Destination_55 Cancri e', 4.4476983482321665e-19),\n",
       " ('Destination_PSO J318.5-22', 0.9210671858425429),\n",
       " ('Destination_TRAPPIST-1e', 6.175994974609624e-07),\n",
       " ('VIP_False', 0.5906582805464731),\n",
       " ('VIP_True', 0.0006928224766361515)]"
      ]
     },
     "execution_count": 11,
     "metadata": {},
     "output_type": "execute_result"
    }
   ],
   "source": [
    "test = list(zip(list(X.columns), p_values))\n",
    "test"
   ]
  }
 ],
 "metadata": {
  "kernelspec": {
   "display_name": "Python 3",
   "language": "python",
   "name": "python3"
  },
  "language_info": {
   "codemirror_mode": {
    "name": "ipython",
    "version": 3
   },
   "file_extension": ".py",
   "mimetype": "text/x-python",
   "name": "python",
   "nbconvert_exporter": "python",
   "pygments_lexer": "ipython3",
   "version": "undefined.undefined.undefined"
  }
 },
 "nbformat": 4,
 "nbformat_minor": 2
}
